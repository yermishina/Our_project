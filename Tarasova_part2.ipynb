{
 "cells": [
  {
   "cell_type": "code",
   "execution_count": 53,
   "metadata": {},
   "outputs": [
    {
     "name": "stdout",
     "output_type": "stream",
     "text": [
      "Requirement already satisfied: vk in c:\\anaconda\\lib\\site-packages (2.0.2)\n",
      "Requirement already satisfied: requests<3.0,>=2.8 in c:\\anaconda\\lib\\site-packages (from vk) (2.24.0)\n",
      "Requirement already satisfied: chardet<4,>=3.0.2 in c:\\anaconda\\lib\\site-packages (from requests<3.0,>=2.8->vk) (3.0.4)\n",
      "Requirement already satisfied: idna<3,>=2.5 in c:\\anaconda\\lib\\site-packages (from requests<3.0,>=2.8->vk) (2.10)\n",
      "Requirement already satisfied: urllib3!=1.25.0,!=1.25.1,<1.26,>=1.21.1 in c:\\anaconda\\lib\\site-packages (from requests<3.0,>=2.8->vk) (1.25.9)\n",
      "Requirement already satisfied: certifi>=2017.4.17 in c:\\anaconda\\lib\\site-packages (from requests<3.0,>=2.8->vk) (2020.6.20)\n"
     ]
    }
   ],
   "source": [
    "!pip install vk"
   ]
  },
  {
   "cell_type": "code",
   "execution_count": 142,
   "metadata": {},
   "outputs": [],
   "source": [
    "import vk"
   ]
  },
  {
   "cell_type": "code",
   "execution_count": 143,
   "metadata": {},
   "outputs": [],
   "source": [
    "token = \"28e7a9f728e7a9f728e7a9f73728945688228e728e7a9f777825128317f4ba03c7ee09f\"\n",
    "session = vk.Session(access_token=token)  \n",
    "vk_api = vk.API(session)"
   ]
  },
  {
   "cell_type": "code",
   "execution_count": 144,
   "metadata": {},
   "outputs": [],
   "source": [
    "personal_token = \"3a6991862ef29a7c910e8df1653c5cf70d349fb8265aa5758b4f7e03073fce71576b362e01d86c0e5ba78\"  \n",
    "vk_personal_api = vk.API(session)"
   ]
  },
  {
   "cell_type": "code",
   "execution_count": 145,
   "metadata": {},
   "outputs": [],
   "source": [
    "import time\n",
    "def get_members(groupid, fields=('sex', 'bdate', 'city', 'country', 'domain')):\n",
    "    first = vk_api.groups.getMembers(group_id=groupid, fields=fields, v=5.92)\n",
    "    data = first[\"items\"]  \n",
    "    count = first[\"count\"] // 1000 \n",
    "    for i in range(1, count+1):  \n",
    "        data = data + vk_api.groups.getMembers(group_id=groupid, fields=fields, v=5.92, offset=i*1000)[\"items\"]\n",
    "        time.sleep(3)\n",
    "    return data"
   ]
  },
  {
   "cell_type": "code",
   "execution_count": 146,
   "metadata": {},
   "outputs": [],
   "source": [
    "members = get_members(\"bolbfest\")"
   ]
  },
  {
   "cell_type": "code",
   "execution_count": 90,
   "metadata": {},
   "outputs": [
    {
     "data": {
      "text/plain": [
       "33567"
      ]
     },
     "execution_count": 90,
     "metadata": {},
     "output_type": "execute_result"
    }
   ],
   "source": [
    "len(members)"
   ]
  },
  {
   "cell_type": "code",
   "execution_count": 147,
   "metadata": {},
   "outputs": [],
   "source": [
    "def save_members_to_file(filename, members):\n",
    "    with open(filename, 'w', encoding='utf-8') as f:\n",
    "        for member in members:\n",
    "            _id = member[\"id\"]\n",
    "            first_name = member[\"first_name\"]\n",
    "            last_name = member[\"last_name\"]\n",
    "            \n",
    "            sex = member[\"sex\"]\n",
    "            if int(sex) == 1: \n",
    "                sex = \"F\"  \n",
    "            elif int(sex) == 2: \n",
    "                sex = \"M\"\n",
    "            else:  # \n",
    "                sex = \"-\" \n",
    "                \n",
    "            bdate = member.get('bdate', \"-\")  \n",
    "            if len(bdate.split(\".\")) == 3: \n",
    "                bdate = bdate.split(\".\")[-1] \n",
    "            else:  # \n",
    "                bdate = \"-\" \n",
    "                \n",
    "            city = member.get('city', {}).get(\"title\", \"-\") \n",
    "            country = member.get('country', {}).get(\"title\", \"-\")  \n",
    "            f.write(f\"{_id},\\t{first_name}\\t{last_name}\\t{sex}\\t{bdate}\\t{city}\\t{country}\\n\")"
   ]
  },
  {
   "cell_type": "code",
   "execution_count": 148,
   "metadata": {},
   "outputs": [],
   "source": [
    "save_members_to_file(\"bolbfest_members.tsv\", members)"
   ]
  },
  {
   "cell_type": "code",
   "execution_count": 149,
   "metadata": {},
   "outputs": [],
   "source": [
    "with open(\"picnicafishi.saved_members.tsv\", 'r', encoding='utf-8') as f:\n",
    "    members1 = f.read().split(\"\\n\")\n",
    "    \n",
    "with open(\"boscofreshfest.txt\", 'r', encoding='utf-8') as f:\n",
    "    members2 = f.read().split(\"\\n\")\n",
    "    \n",
    "with open(\"parklive_members.tsv\", 'r', encoding='utf-8') as f:\n",
    "    members3 = f.read().split(\"\\n\")\n",
    "\n",
    "with open(\"bolbfest_members.tsv\", 'r', encoding='utf-8') as f:\n",
    "    members4 = f.read().split(\"\\n\")"
   ]
  },
  {
   "cell_type": "code",
   "execution_count": 151,
   "metadata": {},
   "outputs": [],
   "source": [
    "members3 = set(members3)\n",
    "members1 = set(members1)\n",
    "members2 = set(members2)\n",
    "members4 = set(members4)\n",
    "\n",
    "members3.remove(\"\")"
   ]
  },
  {
   "cell_type": "code",
   "execution_count": 153,
   "metadata": {},
   "outputs": [],
   "source": [
    "united_members = members1.union(members2).union(members3).union(members4)"
   ]
  },
  {
   "cell_type": "code",
   "execution_count": 155,
   "metadata": {},
   "outputs": [],
   "source": [
    "with open (\"united_members.tsv\", \"w\",  encoding='utf-8') as f:\n",
    "    for i in united_members:\n",
    "        f.write(i + \"\\n\")"
   ]
  },
  {
   "cell_type": "code",
   "execution_count": 157,
   "metadata": {},
   "outputs": [],
   "source": [
    "import matplotlib.pyplot as plt\n",
    "import seaborn as sns"
   ]
  },
  {
   "cell_type": "code",
   "execution_count": 85,
   "metadata": {},
   "outputs": [],
   "source": [
    "import pandas as pd\n",
    "\n",
    "df = pd.read_csv(\"united_members.tsv\", sep=\"\\t\", names=[\"id\", \"name\", \"surname\", \"sex\", \"birth\", \"city\", \"country\"])"
   ]
  },
  {
   "cell_type": "code",
   "execution_count": 186,
   "metadata": {},
   "outputs": [
    {
     "data": {
      "text/html": [
       "<div>\n",
       "<style scoped>\n",
       "    .dataframe tbody tr th:only-of-type {\n",
       "        vertical-align: middle;\n",
       "    }\n",
       "\n",
       "    .dataframe tbody tr th {\n",
       "        vertical-align: top;\n",
       "    }\n",
       "\n",
       "    .dataframe thead th {\n",
       "        text-align: right;\n",
       "    }\n",
       "</style>\n",
       "<table border=\"1\" class=\"dataframe\">\n",
       "  <thead>\n",
       "    <tr style=\"text-align: right;\">\n",
       "      <th></th>\n",
       "      <th>id</th>\n",
       "      <th>name</th>\n",
       "      <th>surname</th>\n",
       "      <th>sex</th>\n",
       "      <th>birth</th>\n",
       "      <th>city</th>\n",
       "      <th>country</th>\n",
       "    </tr>\n",
       "  </thead>\n",
       "  <tbody>\n",
       "    <tr>\n",
       "      <th>0</th>\n",
       "      <td>209610476,</td>\n",
       "      <td>Надежда</td>\n",
       "      <td>Емелина</td>\n",
       "      <td>F</td>\n",
       "      <td>-</td>\n",
       "      <td>-</td>\n",
       "      <td>-</td>\n",
       "    </tr>\n",
       "    <tr>\n",
       "      <th>1</th>\n",
       "      <td>52655756,</td>\n",
       "      <td>Lyubov</td>\n",
       "      <td>Lukashenko</td>\n",
       "      <td>F</td>\n",
       "      <td>1995</td>\n",
       "      <td>Moscow</td>\n",
       "      <td>Russia</td>\n",
       "    </tr>\n",
       "    <tr>\n",
       "      <th>2</th>\n",
       "      <td>50360347,</td>\n",
       "      <td>Ольга</td>\n",
       "      <td>Гуменчук</td>\n",
       "      <td>F</td>\n",
       "      <td>-</td>\n",
       "      <td>Краснодар</td>\n",
       "      <td>Россия</td>\n",
       "    </tr>\n",
       "    <tr>\n",
       "      <th>3</th>\n",
       "      <td>249568180,</td>\n",
       "      <td>Zavtrak</td>\n",
       "      <td>Chempionov</td>\n",
       "      <td>M</td>\n",
       "      <td>-</td>\n",
       "      <td>Moscow</td>\n",
       "      <td>Russia</td>\n",
       "    </tr>\n",
       "    <tr>\n",
       "      <th>4</th>\n",
       "      <td>12415461,</td>\n",
       "      <td>Коля</td>\n",
       "      <td>Раев</td>\n",
       "      <td>M</td>\n",
       "      <td>1996</td>\n",
       "      <td>Москва</td>\n",
       "      <td>Россия</td>\n",
       "    </tr>\n",
       "    <tr>\n",
       "      <th>5</th>\n",
       "      <td>237530957,</td>\n",
       "      <td>Федор</td>\n",
       "      <td>Алексеев</td>\n",
       "      <td>M</td>\n",
       "      <td>1996</td>\n",
       "      <td>Москва</td>\n",
       "      <td>Россия</td>\n",
       "    </tr>\n",
       "    <tr>\n",
       "      <th>6</th>\n",
       "      <td>31637926,</td>\n",
       "      <td>Ирин</td>\n",
       "      <td>Корнилова</td>\n",
       "      <td>F</td>\n",
       "      <td>-</td>\n",
       "      <td>Москва</td>\n",
       "      <td>Россия</td>\n",
       "    </tr>\n",
       "    <tr>\n",
       "      <th>7</th>\n",
       "      <td>116548555,</td>\n",
       "      <td>Олеся</td>\n",
       "      <td>Пупырёва</td>\n",
       "      <td>F</td>\n",
       "      <td>-</td>\n",
       "      <td>Санкт-Петербург</td>\n",
       "      <td>Россия</td>\n",
       "    </tr>\n",
       "    <tr>\n",
       "      <th>8</th>\n",
       "      <td>6372624,</td>\n",
       "      <td>Ренатка</td>\n",
       "      <td>Нуркаева</td>\n",
       "      <td>F</td>\n",
       "      <td>-</td>\n",
       "      <td>Москва</td>\n",
       "      <td>Россия</td>\n",
       "    </tr>\n",
       "    <tr>\n",
       "      <th>9</th>\n",
       "      <td>62885251,</td>\n",
       "      <td>Михаил</td>\n",
       "      <td>Есин</td>\n",
       "      <td>M</td>\n",
       "      <td>1994</td>\n",
       "      <td>Москва</td>\n",
       "      <td>Россия</td>\n",
       "    </tr>\n",
       "    <tr>\n",
       "      <th>10</th>\n",
       "      <td>18856407,</td>\n",
       "      <td>Виктор</td>\n",
       "      <td>Запруднов</td>\n",
       "      <td>M</td>\n",
       "      <td>-</td>\n",
       "      <td>Ярославль</td>\n",
       "      <td>Россия</td>\n",
       "    </tr>\n",
       "  </tbody>\n",
       "</table>\n",
       "</div>"
      ],
      "text/plain": [
       "            id     name     surname sex birth             city country\n",
       "0   209610476,  Надежда     Емелина   F     -                -       -\n",
       "1    52655756,   Lyubov  Lukashenko   F  1995           Moscow  Russia\n",
       "2    50360347,    Ольга    Гуменчук   F     -        Краснодар  Россия\n",
       "3   249568180,  Zavtrak  Chempionov   M     -           Moscow  Russia\n",
       "4    12415461,     Коля        Раев   M  1996           Москва  Россия\n",
       "5   237530957,    Федор    Алексеев   M  1996           Москва  Россия\n",
       "6    31637926,     Ирин   Корнилова   F     -           Москва  Россия\n",
       "7   116548555,    Олеся    Пупырёва   F     -  Санкт-Петербург  Россия\n",
       "8     6372624,  Ренатка    Нуркаева   F     -           Москва  Россия\n",
       "9    62885251,   Михаил        Есин   M  1994           Москва  Россия\n",
       "10   18856407,   Виктор   Запруднов   M     -        Ярославль  Россия"
      ]
     },
     "execution_count": 186,
     "metadata": {},
     "output_type": "execute_result"
    }
   ],
   "source": [
    "df.head(11)"
   ]
  },
  {
   "cell_type": "code",
   "execution_count": 187,
   "metadata": {},
   "outputs": [
    {
     "data": {
      "text/plain": [
       "163068"
      ]
     },
     "execution_count": 187,
     "metadata": {},
     "output_type": "execute_result"
    }
   ],
   "source": [
    "len(united_members)"
   ]
  },
  {
   "cell_type": "code",
   "execution_count": 188,
   "metadata": {},
   "outputs": [
    {
     "name": "stdout",
     "output_type": "stream",
     "text": [
      "Moscow              27746\n",
      "Москва              19934\n",
      "Saint Petersburg     6474\n",
      "Санкт-Петербург      6015\n",
      "Нижний Новгород      1087\n",
      "Nizhny Novgorod       856\n",
      "Екатеринбург          759\n",
      "Yekaterinburg         710\n",
      "Воронеж               708\n",
      "Самара                671\n",
      "Краснодар             644\n",
      "Казань                615\n",
      "Voronezh              571\n",
      "Ростов-на-Дону        568\n",
      "Minsk                 563\n",
      "Kazan                 554\n",
      "Rostov-on-Don         506\n",
      "Samara                498\n",
      "Минск                 449\n",
      "Новосибирск           449\n",
      "Name: city, dtype: int64\n"
     ]
    }
   ],
   "source": [
    "city_count  = df['city'].value_counts().drop('-') # считаем города и удаляем отсутствие города в табличке: \"-\"\n",
    "city_count = city_count[:20] # первые 20 городов\n",
    "print(city_count)"
   ]
  },
  {
   "cell_type": "code",
   "execution_count": 189,
   "metadata": {},
   "outputs": [],
   "source": [
    "intersected_members = members1.intersection(members2).intersection(members3).intersection(members4)"
   ]
  },
  {
   "cell_type": "code",
   "execution_count": 190,
   "metadata": {},
   "outputs": [
    {
     "data": {
      "text/plain": [
       "18"
      ]
     },
     "execution_count": 190,
     "metadata": {},
     "output_type": "execute_result"
    }
   ],
   "source": [
    "len(intersected_members)"
   ]
  },
  {
   "cell_type": "code",
   "execution_count": 191,
   "metadata": {},
   "outputs": [],
   "source": [
    "with open(\"intersected_members.tsv\", \"w\", encoding=\"utf-8\") as w:\n",
    "    for i in intersected_members:\n",
    "        w.write(i+\"\\n\")\n",
    "        "
   ]
  },
  {
   "cell_type": "code",
   "execution_count": 192,
   "metadata": {},
   "outputs": [],
   "source": [
    "import pandas as pd\n",
    "\n",
    "df = pd.read_csv(\"intersected_members.tsv\", sep=\"\\t\", names=[\"id\", \"name\", \"surname\", \"sex\", \"birth\", \"city\", \"country\"])"
   ]
  },
  {
   "cell_type": "code",
   "execution_count": 193,
   "metadata": {},
   "outputs": [],
   "source": [
    "df = df[df[\"name\"] != \"DELETED\"]"
   ]
  },
  {
   "cell_type": "code",
   "execution_count": 194,
   "metadata": {},
   "outputs": [
    {
     "data": {
      "text/html": [
       "<div>\n",
       "<style scoped>\n",
       "    .dataframe tbody tr th:only-of-type {\n",
       "        vertical-align: middle;\n",
       "    }\n",
       "\n",
       "    .dataframe tbody tr th {\n",
       "        vertical-align: top;\n",
       "    }\n",
       "\n",
       "    .dataframe thead th {\n",
       "        text-align: right;\n",
       "    }\n",
       "</style>\n",
       "<table border=\"1\" class=\"dataframe\">\n",
       "  <thead>\n",
       "    <tr style=\"text-align: right;\">\n",
       "      <th></th>\n",
       "      <th>id</th>\n",
       "      <th>name</th>\n",
       "      <th>surname</th>\n",
       "      <th>sex</th>\n",
       "      <th>birth</th>\n",
       "      <th>city</th>\n",
       "      <th>country</th>\n",
       "    </tr>\n",
       "  </thead>\n",
       "  <tbody>\n",
       "    <tr>\n",
       "      <th>1</th>\n",
       "      <td>2209816,</td>\n",
       "      <td>Anastasia</td>\n",
       "      <td>Filippova</td>\n",
       "      <td>F</td>\n",
       "      <td>-</td>\n",
       "      <td>-</td>\n",
       "      <td>-</td>\n",
       "    </tr>\n",
       "    <tr>\n",
       "      <th>2</th>\n",
       "      <td>495923691,</td>\n",
       "      <td>Electrojam</td>\n",
       "      <td>Info</td>\n",
       "      <td>M</td>\n",
       "      <td>-</td>\n",
       "      <td>-</td>\n",
       "      <td>-</td>\n",
       "    </tr>\n",
       "    <tr>\n",
       "      <th>4</th>\n",
       "      <td>380354715,</td>\n",
       "      <td>All</td>\n",
       "      <td>Fest</td>\n",
       "      <td>M</td>\n",
       "      <td>1973</td>\n",
       "      <td>-</td>\n",
       "      <td>-</td>\n",
       "    </tr>\n",
       "    <tr>\n",
       "      <th>7</th>\n",
       "      <td>275745687,</td>\n",
       "      <td>Konchalovsky</td>\n",
       "      <td>Anastasia</td>\n",
       "      <td>F</td>\n",
       "      <td>-</td>\n",
       "      <td>-</td>\n",
       "      <td>-</td>\n",
       "    </tr>\n",
       "    <tr>\n",
       "      <th>9</th>\n",
       "      <td>246310088,</td>\n",
       "      <td>Helena</td>\n",
       "      <td>Bloomquist</td>\n",
       "      <td>F</td>\n",
       "      <td>-</td>\n",
       "      <td>-</td>\n",
       "      <td>-</td>\n",
       "    </tr>\n",
       "    <tr>\n",
       "      <th>12</th>\n",
       "      <td>559929829,</td>\n",
       "      <td>Ann</td>\n",
       "      <td>Nomad</td>\n",
       "      <td>F</td>\n",
       "      <td>2000</td>\n",
       "      <td>-</td>\n",
       "      <td>-</td>\n",
       "    </tr>\n",
       "    <tr>\n",
       "      <th>13</th>\n",
       "      <td>245228950,</td>\n",
       "      <td>Gleb</td>\n",
       "      <td>Kudryavtsev</td>\n",
       "      <td>M</td>\n",
       "      <td>-</td>\n",
       "      <td>-</td>\n",
       "      <td>-</td>\n",
       "    </tr>\n",
       "    <tr>\n",
       "      <th>15</th>\n",
       "      <td>390444756,</td>\n",
       "      <td>Roman</td>\n",
       "      <td>Aynutdinov</td>\n",
       "      <td>M</td>\n",
       "      <td>-</td>\n",
       "      <td>-</td>\n",
       "      <td>-</td>\n",
       "    </tr>\n",
       "    <tr>\n",
       "      <th>16</th>\n",
       "      <td>8090090,</td>\n",
       "      <td>Mary</td>\n",
       "      <td>Stepanenko</td>\n",
       "      <td>F</td>\n",
       "      <td>-</td>\n",
       "      <td>-</td>\n",
       "      <td>-</td>\n",
       "    </tr>\n",
       "    <tr>\n",
       "      <th>17</th>\n",
       "      <td>20197498,</td>\n",
       "      <td>Regina</td>\n",
       "      <td>George</td>\n",
       "      <td>F</td>\n",
       "      <td>-</td>\n",
       "      <td>-</td>\n",
       "      <td>-</td>\n",
       "    </tr>\n",
       "  </tbody>\n",
       "</table>\n",
       "</div>"
      ],
      "text/plain": [
       "            id          name      surname sex birth city country\n",
       "1     2209816,     Anastasia    Filippova   F     -    -       -\n",
       "2   495923691,    Electrojam         Info   M     -    -       -\n",
       "4   380354715,           All         Fest   M  1973    -       -\n",
       "7   275745687,  Konchalovsky    Anastasia   F     -    -       -\n",
       "9   246310088,        Helena   Bloomquist   F     -    -       -\n",
       "12  559929829,           Ann        Nomad   F  2000    -       -\n",
       "13  245228950,          Gleb  Kudryavtsev   M     -    -       -\n",
       "15  390444756,         Roman   Aynutdinov   M     -    -       -\n",
       "16    8090090,          Mary   Stepanenko   F     -    -       -\n",
       "17   20197498,        Regina       George   F     -    -       -"
      ]
     },
     "execution_count": 194,
     "metadata": {},
     "output_type": "execute_result"
    }
   ],
   "source": [
    "df.head(100)"
   ]
  },
  {
   "cell_type": "code",
   "execution_count": 115,
   "metadata": {},
   "outputs": [],
   "source": [
    "import pandas as pd\n",
    "\n",
    "df = pd.read_csv(\"bolbfest_members.tsv\", sep=\"\\t\", names=[\"id\", \"name\", \"surname\", \"sex\", \"birth\", \"city\", \"country\"])"
   ]
  },
  {
   "cell_type": "code",
   "execution_count": 116,
   "metadata": {},
   "outputs": [
    {
     "data": {
      "text/html": [
       "<div>\n",
       "<style scoped>\n",
       "    .dataframe tbody tr th:only-of-type {\n",
       "        vertical-align: middle;\n",
       "    }\n",
       "\n",
       "    .dataframe tbody tr th {\n",
       "        vertical-align: top;\n",
       "    }\n",
       "\n",
       "    .dataframe thead th {\n",
       "        text-align: right;\n",
       "    }\n",
       "</style>\n",
       "<table border=\"1\" class=\"dataframe\">\n",
       "  <thead>\n",
       "    <tr style=\"text-align: right;\">\n",
       "      <th></th>\n",
       "      <th>id</th>\n",
       "      <th>name</th>\n",
       "      <th>surname</th>\n",
       "      <th>sex</th>\n",
       "      <th>birth</th>\n",
       "      <th>city</th>\n",
       "      <th>country</th>\n",
       "    </tr>\n",
       "  </thead>\n",
       "  <tbody>\n",
       "    <tr>\n",
       "      <th>0</th>\n",
       "      <td>3431,</td>\n",
       "      <td>Anna</td>\n",
       "      <td>Sheveleva</td>\n",
       "      <td>F</td>\n",
       "      <td>-</td>\n",
       "      <td>Saint Petersburg</td>\n",
       "      <td>Russia</td>\n",
       "    </tr>\n",
       "    <tr>\n",
       "      <th>1</th>\n",
       "      <td>3879,</td>\n",
       "      <td>Mikhail</td>\n",
       "      <td>Bing</td>\n",
       "      <td>M</td>\n",
       "      <td>-</td>\n",
       "      <td>Moscow</td>\n",
       "      <td>Russia</td>\n",
       "    </tr>\n",
       "    <tr>\n",
       "      <th>2</th>\n",
       "      <td>4365,</td>\n",
       "      <td>Olesya</td>\n",
       "      <td>Iva</td>\n",
       "      <td>F</td>\n",
       "      <td>1988</td>\n",
       "      <td>Tel Aviv</td>\n",
       "      <td>Israel</td>\n",
       "    </tr>\n",
       "    <tr>\n",
       "      <th>3</th>\n",
       "      <td>4604,</td>\n",
       "      <td>Anna</td>\n",
       "      <td>Novikova</td>\n",
       "      <td>F</td>\n",
       "      <td>-</td>\n",
       "      <td>-</td>\n",
       "      <td>Russia</td>\n",
       "    </tr>\n",
       "    <tr>\n",
       "      <th>4</th>\n",
       "      <td>7224,</td>\n",
       "      <td>Nikita</td>\n",
       "      <td>Tikhomirov</td>\n",
       "      <td>M</td>\n",
       "      <td>-</td>\n",
       "      <td>-</td>\n",
       "      <td>-</td>\n",
       "    </tr>\n",
       "    <tr>\n",
       "      <th>5</th>\n",
       "      <td>7258,</td>\n",
       "      <td>Lena</td>\n",
       "      <td>Lazoreva</td>\n",
       "      <td>F</td>\n",
       "      <td>-</td>\n",
       "      <td>-</td>\n",
       "      <td>-</td>\n",
       "    </tr>\n",
       "    <tr>\n",
       "      <th>6</th>\n",
       "      <td>8001,</td>\n",
       "      <td>Inga</td>\n",
       "      <td>Petrova</td>\n",
       "      <td>F</td>\n",
       "      <td>-</td>\n",
       "      <td>Köln</td>\n",
       "      <td>Germany</td>\n",
       "    </tr>\n",
       "    <tr>\n",
       "      <th>7</th>\n",
       "      <td>8354,</td>\n",
       "      <td>Natal</td>\n",
       "      <td>Kislyakova</td>\n",
       "      <td>F</td>\n",
       "      <td>-</td>\n",
       "      <td>-</td>\n",
       "      <td>-</td>\n",
       "    </tr>\n",
       "    <tr>\n",
       "      <th>8</th>\n",
       "      <td>8386,</td>\n",
       "      <td>Anastasia</td>\n",
       "      <td>Verigova</td>\n",
       "      <td>F</td>\n",
       "      <td>-</td>\n",
       "      <td>Chelyabinsk</td>\n",
       "      <td>Russia</td>\n",
       "    </tr>\n",
       "    <tr>\n",
       "      <th>9</th>\n",
       "      <td>9453,</td>\n",
       "      <td>Mila</td>\n",
       "      <td>Volkova</td>\n",
       "      <td>F</td>\n",
       "      <td>-</td>\n",
       "      <td>Saint Petersburg</td>\n",
       "      <td>Russia</td>\n",
       "    </tr>\n",
       "    <tr>\n",
       "      <th>10</th>\n",
       "      <td>10480,</td>\n",
       "      <td>Nikolay</td>\n",
       "      <td>Gorely</td>\n",
       "      <td>M</td>\n",
       "      <td>-</td>\n",
       "      <td>Moscow</td>\n",
       "      <td>Russia</td>\n",
       "    </tr>\n",
       "  </tbody>\n",
       "</table>\n",
       "</div>"
      ],
      "text/plain": [
       "        id       name     surname sex birth              city  country\n",
       "0    3431,       Anna   Sheveleva   F     -  Saint Petersburg   Russia\n",
       "1    3879,    Mikhail        Bing   M     -            Moscow   Russia\n",
       "2    4365,     Olesya         Iva   F  1988          Tel Aviv   Israel\n",
       "3    4604,       Anna    Novikova   F     -                 -   Russia\n",
       "4    7224,     Nikita  Tikhomirov   M     -                 -        -\n",
       "5    7258,       Lena    Lazoreva   F     -                 -        -\n",
       "6    8001,       Inga     Petrova   F     -              Köln  Germany\n",
       "7    8354,      Natal  Kislyakova   F     -                 -        -\n",
       "8    8386,  Anastasia    Verigova   F     -       Chelyabinsk   Russia\n",
       "9    9453,       Mila     Volkova   F     -  Saint Petersburg   Russia\n",
       "10  10480,    Nikolay      Gorely   M     -            Moscow   Russia"
      ]
     },
     "execution_count": 116,
     "metadata": {},
     "output_type": "execute_result"
    }
   ],
   "source": [
    "df.head(11)"
   ]
  },
  {
   "cell_type": "code",
   "execution_count": 117,
   "metadata": {},
   "outputs": [
    {
     "name": "stdout",
     "output_type": "stream",
     "text": [
      "Moscow              10580\n",
      "Saint Petersburg     2679\n",
      "Nizhny Novgorod       306\n",
      "Minsk                 304\n",
      "Yekaterinburg         268\n",
      "Voronezh              223\n",
      "Rostov-on-Don         192\n",
      "Kazan                 186\n",
      "Tula                  171\n",
      "Samara                168\n",
      "Krasnodar             148\n",
      "Perm                  147\n",
      "Kyiv                  139\n",
      "Novosibirsk           137\n",
      "Tver                  116\n",
      "Yaroslavl             115\n",
      "Izhevsk               101\n",
      "Ufa                    98\n",
      "Ryazan                 84\n",
      "Chelyabinsk            83\n",
      "Name: city, dtype: int64\n"
     ]
    }
   ],
   "source": [
    "city_count  = df['city'].value_counts().drop('-') # считаем города и удаляем отсутствие города в табличке: \"-\"\n",
    "city_count = city_count[:20] # первые 20 городов\n",
    "print(city_count)"
   ]
  },
  {
   "cell_type": "code",
   "execution_count": 118,
   "metadata": {},
   "outputs": [],
   "source": [
    "import matplotlib.pyplot as plt\n",
    "import seaborn as sns"
   ]
  },
  {
   "cell_type": "code",
   "execution_count": 135,
   "metadata": {},
   "outputs": [],
   "source": [
    "import pandas as pd\n",
    "df = pd.read_csv(\"bolbfest_members.tsv\", sep=\"\\t\", names=[\"id\", \"name\", \"surname\", \"sex\", \"birth\", \"city\", \"country\"])"
   ]
  },
  {
   "cell_type": "code",
   "execution_count": 137,
   "metadata": {},
   "outputs": [
    {
     "data": {
      "image/png": "[encoded data removed]",
      "text/plain": [
       "<Figure size 432x288 with 1 Axes>"
      ]
     },
     "metadata": {
      "needs_background": "light"
     },
     "output_type": "display_data"
    }
   ],
   "source": [
    "sns.barplot(city_count.index, city_count.values, palette='copper') # рисуем график, выбираем цвет\n",
    "plt.xticks(rotation=90) # разворачиваем подписи под городами на 90 градусов\n",
    "plt.show() # показываем изображение"
   ]
  },
  {
   "cell_type": "code",
   "execution_count": 138,
   "metadata": {},
   "outputs": [],
   "source": [
    "import pandas as pd\n",
    "df = pd.read_csv(\"united_members.tsv\", sep=\"\\t\", names=[\"id\", \"name\", \"surname\", \"sex\", \"birth\", \"city\", \"country\"])"
   ]
  },
  {
   "cell_type": "code",
   "execution_count": 139,
   "metadata": {},
   "outputs": [
    {
     "data": {
      "image/png": "[encoded data removed]",
      "text/plain": [
       "<Figure size 720x720 with 1 Axes>"
      ]
     },
     "metadata": {
      "needs_background": "light"
     },
     "output_type": "display_data"
    }
   ],
   "source": [
    "df.loc[(df['city'] == 'Moscow')] = \"msk + spb\"\n",
    "df.loc[(df['city'] == 'Saint Petersburg')] = \"msk + spb\"\n",
    "df.loc[(df['city'] != \"msk + spb\") & (df['city'] != \"-\")] = \"province\"\n",
    "\n",
    "\n",
    "city_count  = df['city'].value_counts().drop('-') # считаем города и удаляем отсутствие города в табличке: \"-\"\n",
    "city_count = city_count[:20] # первые 20 городов\n",
    "plt.figure(figsize=(10,10)) #размер картинки\n",
    "ax = sns.barplot(city_count.index,city_count.values, palette='pink_r') # рисуем график, выбираем цвет\n",
    "plt.title('PAIN', fontsize=30)\n",
    "plt.ylabel('Nb of fans', fontsize=25)\n",
    "plt.xlabel('City', fontsize=25)\n",
    "plt.xticks(rotation=90) # разворачиваем подписи под городами на 90 градусов\n",
    "plt.show() # показываем изображение# your code here\n"
   ]
  },
  {
   "cell_type": "code",
   "execution_count": null,
   "metadata": {},
   "outputs": [],
   "source": []
  }
 ],
 "metadata": {
  "kernelspec": {
   "display_name": "Python 3",
   "language": "python",
   "name": "python3"
  },
  "language_info": {
   "codemirror_mode": {
    "name": "ipython",
    "version": 3
   },
   "file_extension": ".py",
   "mimetype": "text/x-python",
   "name": "python",
   "nbconvert_exporter": "python",
   "pygments_lexer": "ipython3",
   "version": "3.8.3"
  }
 },
 "nbformat": 4,
 "nbformat_minor": 4
}
