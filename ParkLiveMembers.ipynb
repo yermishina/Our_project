{
 "cells": [
  {
   "cell_type": "code",
   "execution_count": 1,
   "metadata": {},
   "outputs": [],
   "source": [
    "import vk"
   ]
  },
  {
   "cell_type": "code",
   "execution_count": 2,
   "metadata": {},
   "outputs": [],
   "source": [
    "token = \"\"\n",
    "session = vk.Session(access_token=token)  \n",
    "vk_api = vk.API(session) "
   ]
  },
  {
   "cell_type": "code",
   "execution_count": 3,
   "metadata": {},
   "outputs": [],
   "source": [
    "personal_token = \"\"  \n",
    "vk_personal_api = vk.API(session)  "
   ]
  },
  {
   "cell_type": "code",
   "execution_count": 11,
   "metadata": {},
   "outputs": [],
   "source": [
    "import time\n",
    "def get_members(groupid, fields=('sex', 'bdate', 'city', 'country', 'domain')):\n",
    "    first = vk_api.groups.getMembers(group_id=groupid, fields=fields, v=5.92)\n",
    "    data = first[\"items\"]  \n",
    "    count = first[\"count\"] // 1000 \n",
    "    for i in range(1, count+1):  \n",
    "        data = data + vk_api.groups.getMembers(group_id=groupid, fields=fields, v=5.92, offset=i*1000)[\"items\"]\n",
    "        time.sleep(3)\n",
    "    return data"
   ]
  },
  {
   "cell_type": "code",
   "execution_count": 9,
   "metadata": {},
   "outputs": [],
   "source": [
    "members = get_members(\"parklivefest\")"
   ]
  },
  {
   "cell_type": "code",
   "execution_count": 10,
   "metadata": {},
   "outputs": [
    {
     "data": {
      "text/plain": [
       "77391"
      ]
     },
     "execution_count": 10,
     "metadata": {},
     "output_type": "execute_result"
    }
   ],
   "source": [
    "len(members)"
   ]
  },
  {
   "cell_type": "code",
   "execution_count": 12,
   "metadata": {},
   "outputs": [],
   "source": [
    "def save_members_to_file(filename, members):\n",
    "    with open(filename, 'w', encoding='utf-8') as f:\n",
    "        for member in members:\n",
    "            _id = member[\"id\"]\n",
    "            first_name = member[\"first_name\"]\n",
    "            last_name = member[\"last_name\"]\n",
    "            \n",
    "            sex = member[\"sex\"]\n",
    "            if int(sex) == 1: \n",
    "                sex = \"F\"  \n",
    "            elif int(sex) == 2: \n",
    "                sex = \"M\"\n",
    "            else:  # \n",
    "                sex = \"-\" \n",
    "                \n",
    "            bdate = member.get('bdate', \"-\")  \n",
    "            if len(bdate.split(\".\")) == 3: \n",
    "                bdate = bdate.split(\".\")[-1] \n",
    "            else:  # \n",
    "                bdate = \"-\" \n",
    "                \n",
    "            city = member.get('city', {}).get(\"title\", \"-\") \n",
    "            country = member.get('country', {}).get(\"title\", \"-\")  \n",
    "            f.write(f\"{_id},\\t{first_name}\\t{last_name}\\t{sex}\\t{bdate}\\t{city}\\t{country}\\n\")"
   ]
  },
  {
   "cell_type": "code",
   "execution_count": 13,
   "metadata": {},
   "outputs": [],
   "source": [
    "save_members_to_file(\"parklive_members\", members)"
   ]
  }
 ],
 "metadata": {
  "kernelspec": {
   "display_name": "Python 3",
   "language": "python",
   "name": "python3"
  },
  "language_info": {
   "codemirror_mode": {
    "name": "ipython",
    "version": 3
   },
   "file_extension": ".py",
   "mimetype": "text/x-python",
   "name": "python",
   "nbconvert_exporter": "python",
   "pygments_lexer": "ipython3",
   "version": "3.8.3"
  }
 },
 "nbformat": 4,
 "nbformat_minor": 4
}
