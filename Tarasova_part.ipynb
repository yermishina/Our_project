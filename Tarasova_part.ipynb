{
 "cells": [
  {
   "cell_type": "code",
   "execution_count": 1,
   "metadata": {},
   "outputs": [
    {
     "name": "stdout",
     "output_type": "stream",
     "text": [
      "Requirement already satisfied: vk in c:\\anaconda\\lib\\site-packages (2.0.2)\n",
      "Requirement already satisfied: requests<3.0,>=2.8 in c:\\anaconda\\lib\\site-packages (from vk) (2.24.0)\n",
      "Requirement already satisfied: chardet<4,>=3.0.2 in c:\\anaconda\\lib\\site-packages (from requests<3.0,>=2.8->vk) (3.0.4)\n",
      "Requirement already satisfied: urllib3!=1.25.0,!=1.25.1,<1.26,>=1.21.1 in c:\\anaconda\\lib\\site-packages (from requests<3.0,>=2.8->vk) (1.25.9)\n",
      "Requirement already satisfied: certifi>=2017.4.17 in c:\\anaconda\\lib\\site-packages (from requests<3.0,>=2.8->vk) (2020.6.20)\n",
      "Requirement already satisfied: idna<3,>=2.5 in c:\\anaconda\\lib\\site-packages (from requests<3.0,>=2.8->vk) (2.10)\n"
     ]
    }
   ],
   "source": [
    "!pip install vk"
   ]
  },
  {
   "cell_type": "code",
   "execution_count": 35,
   "metadata": {},
   "outputs": [],
   "source": [
    "import vk"
   ]
  },
  {
   "cell_type": "code",
   "execution_count": 36,
   "metadata": {},
   "outputs": [],
   "source": [
    "token = \"28e7a9f728e7a9f728e7a9f73728945688228e728e7a9f777825128317f4ba03c7ee09f\"\n",
    "session = vk.Session(access_token=token)  \n",
    "vk_api = vk.API(session)"
   ]
  },
  {
   "cell_type": "code",
   "execution_count": 37,
   "metadata": {},
   "outputs": [],
   "source": [
    "personal_token = \"3a6991862ef29a7c910e8df1653c5cf70d349fb8265aa5758b4f7e03073fce71576b362e01d86c0e5ba78\"  \n",
    "vk_personal_api = vk.API(session)"
   ]
  },
  {
   "cell_type": "code",
   "execution_count": 38,
   "metadata": {},
   "outputs": [],
   "source": [
    "import time\n",
    "def get_members(groupid, fields=('sex', 'bdate', 'city', 'country', 'domain')):\n",
    "    first = vk_api.groups.getMembers(group_id=groupid, fields=fields, v=5.92)\n",
    "    data = first[\"items\"]  \n",
    "    count = first[\"count\"] // 1000 \n",
    "    for i in range(1, count+1):  \n",
    "        data = data + vk_api.groups.getMembers(group_id=groupid, fields=fields, v=5.92, offset=i*1000)[\"items\"]\n",
    "        time.sleep(3)\n",
    "    return data"
   ]
  },
  {
   "cell_type": "code",
   "execution_count": 39,
   "metadata": {},
   "outputs": [],
   "source": [
    "members = get_members(\"bolbfest\")"
   ]
  },
  {
   "cell_type": "code",
   "execution_count": 40,
   "metadata": {},
   "outputs": [
    {
     "data": {
      "text/plain": [
       "33568"
      ]
     },
     "execution_count": 40,
     "metadata": {},
     "output_type": "execute_result"
    }
   ],
   "source": [
    "len(members)"
   ]
  },
  {
   "cell_type": "code",
   "execution_count": 41,
   "metadata": {},
   "outputs": [],
   "source": [
    "def save_members_to_file(filename, members):\n",
    "    with open(filename, 'w', encoding='utf-8') as f:\n",
    "        for member in members:\n",
    "            _id = member[\"id\"]\n",
    "            first_name = member[\"first_name\"]\n",
    "            last_name = member[\"last_name\"]\n",
    "            \n",
    "            sex = member[\"sex\"]\n",
    "            if int(sex) == 1: \n",
    "                sex = \"F\"  \n",
    "            elif int(sex) == 2: \n",
    "                sex = \"M\"\n",
    "            else:  # \n",
    "                sex = \"-\" \n",
    "                \n",
    "            bdate = member.get('bdate', \"-\")  \n",
    "            if len(bdate.split(\".\")) == 3: \n",
    "                bdate = bdate.split(\".\")[-1] \n",
    "            else:  # \n",
    "                bdate = \"-\" \n",
    "                \n",
    "            city = member.get('city', {}).get(\"title\", \"-\") \n",
    "            country = member.get('country', {}).get(\"title\", \"-\")  \n",
    "            f.write(f\"{_id},\\t{first_name}\\t{last_name}\\t{sex}\\t{bdate}\\t{city}\\t{country}\\n\")"
   ]
  },
  {
   "cell_type": "code",
   "execution_count": 42,
   "metadata": {},
   "outputs": [],
   "source": [
    "save_members_to_file(\"bolbfest_members\", members)"
   ]
  },
  {
   "cell_type": "code",
   "execution_count": 43,
   "metadata": {},
   "outputs": [
    {
     "ename": "NameError",
     "evalue": "name 'bolbfest_members' is not defined",
     "output_type": "error",
     "traceback": [
      "\u001b[1;31m---------------------------------------------------------------------------\u001b[0m",
      "\u001b[1;31mNameError\u001b[0m                                 Traceback (most recent call last)",
      "\u001b[1;32m<ipython-input-43-4bea9595e9e2>\u001b[0m in \u001b[0;36m<module>\u001b[1;34m\u001b[0m\n\u001b[1;32m----> 1\u001b[1;33m \u001b[0mbolbfest_members\u001b[0m\u001b[1;33m[\u001b[0m\u001b[1;33m:\u001b[0m\u001b[1;36m10\u001b[0m\u001b[1;33m]\u001b[0m\u001b[1;33m\u001b[0m\u001b[1;33m\u001b[0m\u001b[0m\n\u001b[0m",
      "\u001b[1;31mNameError\u001b[0m: name 'bolbfest_members' is not defined"
     ]
    }
   ],
   "source": [
    "bolbfest_members[:10]"
   ]
  },
  {
   "cell_type": "code",
   "execution_count": null,
   "metadata": {},
   "outputs": [],
   "source": [
    "people= vk_api.users.get(user_ids=[1:], fields=[ \"city\"], v=5.124)"
   ]
  },
  {
   "cell_type": "code",
   "execution_count": null,
   "metadata": {},
   "outputs": [],
   "source": [
    "if \"city\" in 'bolfest_members' == Moscow:\n",
    "    print (members)"
   ]
  },
  {
   "cell_type": "code",
   "execution_count": null,
   "metadata": {},
   "outputs": [],
   "source": [
    "for person in people:\n",
    "    if person['city'] == Moscow:\n",
    "        print(person)"
   ]
  },
  {
   "cell_type": "code",
   "execution_count": null,
   "metadata": {},
   "outputs": [],
   "source": [
    "df.loc[(df['city'] == 'Moscow')] = \"msk + spb\"\n",
    "df.loc[(df['city'] == 'Saint Petersburg')] = \"msk + spb\"\n",
    "df.loc[(df['city'] != \"msk + spb\") & (df['city'] != \"-\")] = \"province\"\n",
    "\n",
    "\n",
    "city_count  = df['city'].value_counts().drop('-') # считаем города и удаляем отсутствие города в табличке: \"-\"\n",
    "city_count = city_count[:20] # первые 20 городов"
   ]
  },
  {
   "cell_type": "code",
   "execution_count": null,
   "metadata": {},
   "outputs": [],
   "source": []
  }
 ],
 "metadata": {
  "kernelspec": {
   "display_name": "Python 3",
   "language": "python",
   "name": "python3"
  },
  "language_info": {
   "codemirror_mode": {
    "name": "ipython",
    "version": 3
   },
   "file_extension": ".py",
   "mimetype": "text/x-python",
   "name": "python",
   "nbconvert_exporter": "python",
   "pygments_lexer": "ipython3",
   "version": "3.8.3"
  }
 },
 "nbformat": 4,
 "nbformat_minor": 4
}
